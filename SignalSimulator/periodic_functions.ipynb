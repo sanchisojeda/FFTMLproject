{
 "metadata": {
  "name": "",
  "signature": "sha256:3f3a750e79cccecd2f2da31320d387a9d9ceb2bf666f926f6fe321811cd2ade2"
 },
 "nbformat": 3,
 "nbformat_minor": 0,
 "worksheets": [
  {
   "cells": [
    {
     "cell_type": "code",
     "collapsed": false,
     "input": [
      "import numpy as np\n",
      "import matplotlib.pyplot as plt\n",
      "from scipy.fftpack import fft, fftfreq\n",
      "from numpy import pi,sin"
     ],
     "language": "python",
     "metadata": {},
     "outputs": [],
     "prompt_number": 1
    },
    {
     "cell_type": "code",
     "collapsed": false,
     "input": [
      "def periodic_func(xmin, xmax, N, y, num):\n",
      "    \"\"\"Returns two arrays (xvalues and yvalues) that are repeated by amount num such that plotting \n",
      "    x and y will return a periodic function\n",
      "    xmin: min of xvalue \n",
      "    xmax: max of xvalue \n",
      "    N: # of data points\n",
      "    y: the y-values for the x-values\n",
      "    num: # of times to repeat graph\n",
      "\n",
      "    >>> a = 0\n",
      "    >>> b = 5\n",
      "    >>> N = 5\n",
      "    >>> num_repeats = 2\n",
      "    >>> x = np.linspace(a, b, N)\n",
      "    >>> print(x)\n",
      "    [ 0.    1.25  2.5   3.75  5.  ]\n",
      "    >>> y = np.piecewise(x, [x % b != 1.0, x % b <= 1.0], [-1, 1]) #box function\n",
      "    >>> print(y)\n",
      "    [ 1. -1. -1. -1.  1.]\n",
      "    >>> x1, y1 = periodic_func(a, b, N, y, num_repeats)\n",
      "    >>> print(x1)\n",
      "    [  0.     1.25   2.5    3.75   5.     5.     6.25   7.5    8.75  10.  ]\n",
      "    >>> print(y1)\n",
      "    [ 1. -1. -1. -1.  1.  1. -1. -1. -1.  1.]\n",
      "    \"\"\"\n",
      "    \n",
      "    d = xmax - xmin \n",
      "    x_ = np.linspace(xmin, xmax, N)\n",
      "    y_ = y\n",
      "    i = 1\n",
      "    while i < num:\n",
      "        x_ = np.append(x_, np.linspace(xmin + i*d, xmax + i*d, N))\n",
      "        y_ = np.append(y_, y)\n",
      "        i += 1\n",
      "    return x_, y_"
     ],
     "language": "python",
     "metadata": {},
     "outputs": [],
     "prompt_number": 2
    },
    {
     "cell_type": "code",
     "collapsed": false,
     "input": [
      "#Variables\n",
      "#a: min value of t, b: max value of t\n",
      "a, b = 0, 8.3\n",
      "time_int = .5 # time interval of recieving data (in hours) \n",
      "print(\"Time Interval: \" + str(time_int*60) + \" minutes\")\n",
      "# b-a = period \n",
      "period = b - a\n",
      "print(\"Period: \" + str(period) + \" hours\")\n",
      "d = .1 #float #duration of transit in hours\n",
      "print(\"Transit time: \" + str(d) + \" hour(s)\")\n",
      "\n",
      "#N: number of data points\n",
      "N = np.round(period / time_int) #float\n",
      "#distance between points\n",
      "d_pts = (b - a) / N\n",
      "#Nyquist frequency # https://en.wikipedia.org/wiki/Nyquist_frequency\n",
      "nyquist_freq = .5 / d_pts \n",
      "print(\"Nyquist frequency: \" + str(nyquist_freq))\n",
      "\n",
      "#v1: top value for flux, v2: bottom value for flux\n",
      "v1, v2 = 1, .9\n",
      "v3 = (v1+v2) / 2 # has to be inbetween v1 and v2\n",
      "num_repeat = 1000 #number of times for the base graph to be repeated\n",
      "\n",
      "t = np.linspace(a, b, N) #the time values"
     ],
     "language": "python",
     "metadata": {},
     "outputs": [
      {
       "output_type": "stream",
       "stream": "stdout",
       "text": [
        "Time Interval: 30.0 minutes\n",
        "Period: 8.3 hours\n",
        "Transit time: 0.1 hour(s)\n",
        "Nyquist frequency: 1.02409638554\n"
       ]
      }
     ],
     "prompt_number": 3
    },
    {
     "cell_type": "markdown",
     "metadata": {},
     "source": [
      "Box Functions"
     ]
    },
    {
     "cell_type": "code",
     "collapsed": false,
     "input": [
      "def box_maker(x, d, period, v1, v2):\n",
      "    \"\"\"Returns an array (\"y values\") such that plotting x and y will make\n",
      "    a horizontal line at v1 and then another horizontal line at v2\n",
      "    \n",
      "    x: xvalues\n",
      "    d: length of horizontal line at v2\n",
      "    period: the length of the two lines\n",
      "    v1: higher y value\n",
      "    v2: lower y value\n",
      "    \n",
      "    >>> a, b = 0, 5\n",
      "    >>> t = np.linspace(a, b, 10)\n",
      "    >>> print(t)\n",
      "    [ 0.          0.55555556  1.11111111  1.66666667  2.22222222  2.77777778\n",
      "      3.33333333  3.88888889  4.44444444  5.        ]\n",
      "    >>> y = box_maker(t, 1, b-a, 1, .5)\n",
      "    >>> print(y)\n",
      "    [ 0.5  0.5  0.5  1.   1.   1.   1.   1.   1.   1. ]\n",
      "    \"\"\"\n",
      "    return np.piecewise(x, [x % period != d, x % period <= d], [v1, v2])"
     ],
     "language": "python",
     "metadata": {},
     "outputs": [],
     "prompt_number": 4
    },
    {
     "cell_type": "code",
     "collapsed": false,
     "input": [
      "#symmetric box\n",
      "y_box_symmetric = box_maker(t, d, period, v1, v2)"
     ],
     "language": "python",
     "metadata": {},
     "outputs": [],
     "prompt_number": 5
    },
    {
     "cell_type": "code",
     "collapsed": false,
     "input": [
      "#asymmetric box (2 boxes)\n",
      "t1 = t[:len(t)/2]\n",
      "t2 = t[len(t)/2:] - period/2\n",
      "y_box_big = box_maker(t1, d, period/2, v1, v2)\n",
      "y_box_small = box_maker(t2, d, period/2, v1, v3)\n",
      "y_box_asymmetric = np.append(y_box_big, y_box_small)"
     ],
     "language": "python",
     "metadata": {},
     "outputs": [],
     "prompt_number": 6
    },
    {
     "cell_type": "markdown",
     "metadata": {},
     "source": [
      "Triangle Functions"
     ]
    },
    {
     "cell_type": "code",
     "collapsed": false,
     "input": [
      "def triangle_maker(x, d, v1, v2):\n",
      "    \"\"\"Returns an array (\"y values\") such that plotting x and y will make\n",
      "    an inverted triangle and then a straight line\n",
      "    \n",
      "    x: x values\n",
      "    d: the base of the triangle\n",
      "    v1: higher y value\n",
      "    v2: lower y value\n",
      "    \n",
      "    >>> t = np.linspace(0, 5, 10)\n",
      "    >>> print(t)\n",
      "    [ 0.          0.55555556  1.11111111  1.66666667  2.22222222  2.77777778\n",
      "      3.33333333  3.88888889  4.44444444  5.        ]\n",
      "    >>> y = triangle_maker(t, 2, 1, .5)\n",
      "    >>> print(y)\n",
      "    [ 1.          0.72222222  0.55555556  0.83333333  1.          1.          \n",
      "        1.      1.          1.          1.        ]\n",
      "    \"\"\"\n",
      "    \n",
      "    m1 = 2/d*(v2-v1) #downward slope for triangle \n",
      "    m2 = m1 * (-1) #upward slope for triangle\n",
      "    return np.piecewise(x, [x <= d / 2, x > d /2, x >= d], \n",
      "                          [lambda x: v1 + m1*x, lambda x: v2 +m2*(x-d/2), v1])"
     ],
     "language": "python",
     "metadata": {},
     "outputs": [],
     "prompt_number": 7
    },
    {
     "cell_type": "code",
     "collapsed": false,
     "input": [
      "#Symmetric Triangles\n",
      "y_triangle_symmetric = triangle_maker(t, d, v1, v2)"
     ],
     "language": "python",
     "metadata": {},
     "outputs": [],
     "prompt_number": 8
    },
    {
     "cell_type": "code",
     "collapsed": false,
     "input": [
      "#Asymmetric Triangles (2 Triangles)\n",
      "t1 = t[:len(t)/2]\n",
      "t2 = t[len(t)/2:] - period/2\n",
      "y_triangle_big = triangle_maker(t1, d, v1, v2)\n",
      "y_triangle_small = triangle_maker(t2, d, v1, v3)\n",
      "y_triangle_asymmetric = np.append(y_triangle_big, y_triangle_small)"
     ],
     "language": "python",
     "metadata": {},
     "outputs": [],
     "prompt_number": 9
    },
    {
     "cell_type": "markdown",
     "metadata": {},
     "source": [
      "Sine Function"
     ]
    },
    {
     "cell_type": "code",
     "collapsed": false,
     "input": [
      "amp = (v2 - v1) / 2 #amplitude\n",
      "y_sin_int =  (v2 + v1) / 2 #y intercept (move it up and down)\n",
      "theta = 0 #phase shift\n",
      "\n",
      "y_sin = amp * sin(2*pi*t/period + theta) + y_sin_int"
     ],
     "language": "python",
     "metadata": {},
     "outputs": [],
     "prompt_number": 10
    },
    {
     "cell_type": "code",
     "collapsed": false,
     "input": [
      "#plot light curve\n",
      "y_types = [y_box_symmetric, y_box_asymmetric, y_triangle_symmetric, y_triangle_asymmetric, y_sin]\n",
      "\n",
      "y = y_box_symmetric #choose which y to use\n",
      "\n",
      "plt.figure()\n",
      "x1, y1 = periodic_func(a, b, N, y, num_repeat)\n",
      "plt.plot(x1, y1)\n",
      "\n",
      "plt.xlim([a, b*num_repeat])\n",
      "val_avg = np.average([np.abs(v1), np.abs(v2)])\n",
      "plt.ylim([v2 - val_avg, v1 + val_avg])\n",
      "\n",
      "plt.xlabel('Time (hours)')\n",
      "plt.ylabel('Flux') #should it be change in flux? change in percentage of flux?\n",
      "plt.title('Periodic Light Curve')\n",
      "plt.show()"
     ],
     "language": "python",
     "metadata": {},
     "outputs": [
      {
       "metadata": {},
       "output_type": "display_data",
       "png": "[encoded data removed]",
       "text": [
        "<matplotlib.figure.Figure at 0x7f2f3c8>"
       ]
      }
     ],
     "prompt_number": 11
    },
    {
     "cell_type": "code",
     "collapsed": false,
     "input": [
      "#plot FFT\n",
      "plt.figure()\n",
      "\n",
      "norm_fact = 2.0 / (N*num_repeat) # normalization factor \n",
      "fy = fft(y1) * norm_fact\n",
      "\n",
      "freq = fftfreq(np.int(len(y1)))\n",
      "freq_fact = 1.0 / d_pts #frequency factor # notice it is the same for y and y1\n",
      "\n",
      "postivefreq = freq > 0 # take only positive values\n",
      "freq, fy = freq[postivefreq], fy[postivefreq]\n",
      "\n",
      "power = np.abs(fy)\n",
      "\n",
      "conv_hr_day = 24. #change to days\n",
      "plt.plot(freq*freq_fact*conv_hr_day, power,'b')\n",
      "#plt.xlim([0,.002])\n",
      "#plt.ylim([0,.004]) #plot in log space\n",
      "\n",
      "plt.title(\"FFT\")\n",
      "plt.xlabel(\"Frequency (Hz)\")\n",
      "plt.ylabel(\"Amplitude\")\n",
      "plt.show()"
     ],
     "language": "python",
     "metadata": {},
     "outputs": [
      {
       "metadata": {},
       "output_type": "display_data",
       "png": "[encoded data removed]",
       "text": [
        "<matplotlib.figure.Figure at 0x7f4a550>"
       ]
      }
     ],
     "prompt_number": 12
    },
    {
     "cell_type": "code",
     "collapsed": false,
     "input": [
      "pos_max_power = np.argmax(power)\n",
      "\n",
      "print(\"Frequency of max power (per day): \" + str(freq[pos_max_power]*freq_fact*conv_hr_day))\n",
      "#print(\"frequency of max power shifted: \" + str(freq_shift[pos_max_power]*freq_fact))\n",
      "print(\"Expected frequency (per day): \" + str((1.0/period)*conv_hr_day))"
     ],
     "language": "python",
     "metadata": {},
     "outputs": [
      {
       "output_type": "stream",
       "stream": "stdout",
       "text": [
        "Frequency of max power (per day): 2.89156626506\n",
        "Expected frequency (per day): 2.89156626506\n"
       ]
      }
     ],
     "prompt_number": 13
    }
   ],
   "metadata": {}
  }
 ]
}